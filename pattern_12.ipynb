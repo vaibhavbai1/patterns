{
 "cells": [
  {
   "cell_type": "code",
   "execution_count": 7,
   "id": "fc3d1f26",
   "metadata": {},
   "outputs": [
    {
     "name": "stdout",
     "output_type": "stream",
     "text": [
      "1      1\n",
      "12    12\n",
      "123  123\n",
      "12341234\n"
     ]
    }
   ],
   "source": [
    "n=4\n",
    "t=n-1\n",
    "for i in range(1,n+1):\n",
    "    for j in range(i):\n",
    "        print(j+1,end=\"\")\n",
    "    for j in range(t,0,-1):\n",
    "        print(\" \",end=\"\")\n",
    "    for j in range(t):\n",
    "        print(\" \",end=\"\")\n",
    "    t-=1\n",
    "    for j in range(i):\n",
    "        print(j+1,end=\"\")\n",
    "    print()"
   ]
  },
  {
   "cell_type": "code",
   "execution_count": null,
   "id": "238a8f4e",
   "metadata": {},
   "outputs": [],
   "source": []
  }
 ],
 "metadata": {
  "kernelspec": {
   "display_name": "Python 3 (ipykernel)",
   "language": "python",
   "name": "python3"
  },
  "language_info": {
   "codemirror_mode": {
    "name": "ipython",
    "version": 3
   },
   "file_extension": ".py",
   "mimetype": "text/x-python",
   "name": "python",
   "nbconvert_exporter": "python",
   "pygments_lexer": "ipython3",
   "version": "3.9.7"
  }
 },
 "nbformat": 4,
 "nbformat_minor": 5
}
