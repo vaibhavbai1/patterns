{
 "cells": [
  {
   "cell_type": "code",
   "execution_count": 10,
   "id": "52092caa",
   "metadata": {},
   "outputs": [
    {
     "name": "stdout",
     "output_type": "stream",
     "text": [
      "    A\n",
      "   ABA\n",
      "  ABCBA\n",
      " ABCDCBA\n",
      "ABCDEDCBA\n"
     ]
    }
   ],
   "source": [
    "n=5\n",
    "t=n-1\n",
    "for i in range(1,n+1):\n",
    "    for j in range(t):\n",
    "        print(\" \",end=\"\")\n",
    "    t-=1\n",
    "    for j in range(i):\n",
    "        print(chr(65+j),end=\"\")\n",
    "    if i>1:\n",
    "        for j in range(i-1):\n",
    "            print(chr(65+i-j-2),end=\"\")\n",
    "    print()"
   ]
  },
  {
   "cell_type": "code",
   "execution_count": null,
   "id": "ffae6b9b",
   "metadata": {},
   "outputs": [],
   "source": []
  }
 ],
 "metadata": {
  "kernelspec": {
   "display_name": "Python 3 (ipykernel)",
   "language": "python",
   "name": "python3"
  },
  "language_info": {
   "codemirror_mode": {
    "name": "ipython",
    "version": 3
   },
   "file_extension": ".py",
   "mimetype": "text/x-python",
   "name": "python",
   "nbconvert_exporter": "python",
   "pygments_lexer": "ipython3",
   "version": "3.9.7"
  }
 },
 "nbformat": 4,
 "nbformat_minor": 5
}
