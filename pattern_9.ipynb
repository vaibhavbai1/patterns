{
 "cells": [
  {
   "cell_type": "code",
   "execution_count": 4,
   "id": "6b18b800",
   "metadata": {},
   "outputs": [
    {
     "name": "stdout",
     "output_type": "stream",
     "text": [
      "    *\n",
      "   ***\n",
      "  *****\n",
      " *******\n",
      "*********\n",
      "*********\n",
      " *******\n",
      "  *****\n",
      "   ***\n",
      "    *\n"
     ]
    }
   ],
   "source": [
    "n=5\n",
    "t=n-1\n",
    "u=0\n",
    "for i in range(1,((2*n)+1)):\n",
    "    if i<=n:\n",
    "        for k in range(t):\n",
    "            print(\" \",end=\"\")\n",
    "        for j in range((2*i)-1):\n",
    "            print(\"*\",end=\"\")\n",
    "        t-=1\n",
    "        print()\n",
    "    else:\n",
    "        for k in range(u):\n",
    "            print(\" \",end=\"\")\n",
    "        for j in range((2*(i-(2*u)-1))-1):\n",
    "            print(\"*\",end=\"\")\n",
    "        u+=1\n",
    "        print()"
   ]
  },
  {
   "cell_type": "code",
   "execution_count": null,
   "id": "3096535c",
   "metadata": {},
   "outputs": [],
   "source": []
  }
 ],
 "metadata": {
  "kernelspec": {
   "display_name": "Python 3 (ipykernel)",
   "language": "python",
   "name": "python3"
  },
  "language_info": {
   "codemirror_mode": {
    "name": "ipython",
    "version": 3
   },
   "file_extension": ".py",
   "mimetype": "text/x-python",
   "name": "python",
   "nbconvert_exporter": "python",
   "pygments_lexer": "ipython3",
   "version": "3.9.7"
  }
 },
 "nbformat": 4,
 "nbformat_minor": 5
}
